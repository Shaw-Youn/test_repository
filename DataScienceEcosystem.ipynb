{
 "cells": [
  {
   "cell_type": "markdown",
   "id": "9c7052b7",
   "metadata": {},
   "source": [
    "# Data Science Tools and Ecosystem "
   ]
  },
  {
   "cell_type": "markdown",
   "id": "9481a008",
   "metadata": {},
   "source": [
    "In this notebook, Data Science Tools and Ecosystem are summarized."
   ]
  },
  {
   "cell_type": "markdown",
   "id": "14aa4114",
   "metadata": {},
   "source": [
    "**Objective:**\n",
    "- List popular languages for Data Science\n",
    "- Some of the commonly used libraries for Data Scientists\n",
    "- Data Science Tools\n",
    "- Examples of Python code"
   ]
  },
  {
   "cell_type": "markdown",
   "id": "95591a91",
   "metadata": {},
   "source": [
    "Some of the popular languages that Data Scientists use are:\n",
    "1. Python\n",
    "2. R\n",
    "3. SQL\n",
    "4. Scala\n",
    "5. Julia"
   ]
  },
  {
   "cell_type": "markdown",
   "id": "b368d704",
   "metadata": {},
   "source": [
    "Some of the commonly used libraries used by Data Scientists include:\n",
    "1. Numpy\n",
    "2. pandas\n",
    "3. Scipy\n",
    "4. scikit-learn\n",
    "5. Seaborn\n",
    "6. Apache Spark\n",
    "7. Matplotlib\n",
    "8. ggplot\n",
    "9. caret\n",
    "10. dplyr\n",
    "11. TensorFlow\n",
    "12. Keras"
   ]
  },
  {
   "cell_type": "markdown",
   "id": "df71e4c6",
   "metadata": {},
   "source": [
    "|Data Science Tools|\n",
    "------------------------\n",
    "|Jupyter|\n",
    "|RStudio|\n",
    "|Spyder|\n",
    "|Zeppelin|\n",
    "|Apache Flink|\n",
    "|Colab|\n",
    "|Orange|"
   ]
  },
  {
   "cell_type": "markdown",
   "id": "53fbf2b9",
   "metadata": {},
   "source": [
    "### Below are few examples of evaluating arithmetic expressions in Python"
   ]
  },
  {
   "cell_type": "code",
   "execution_count": 1,
   "id": "d92d74a5",
   "metadata": {},
   "outputs": [
    {
     "data": {
      "text/plain": [
       "17"
      ]
     },
     "execution_count": 1,
     "metadata": {},
     "output_type": "execute_result"
    }
   ],
   "source": [
    "# This is a simple arithmetic expression to multiply then add integers.\n",
    "(3*4)+5"
   ]
  },
  {
   "cell_type": "code",
   "execution_count": 2,
   "id": "16206471",
   "metadata": {},
   "outputs": [
    {
     "data": {
      "text/plain": [
       "3.3333333333333335"
      ]
     },
     "execution_count": 2,
     "metadata": {},
     "output_type": "execute_result"
    }
   ],
   "source": [
    "# This will convert 200 minutes to hours by diviing by 60.\n",
    "200/60"
   ]
  },
  {
   "cell_type": "markdown",
   "id": "4e97cdcb",
   "metadata": {},
   "source": [
    "## Author\n",
    "Shaw Young"
   ]
  },
  {
   "cell_type": "code",
   "execution_count": null,
   "id": "678bf379",
   "metadata": {},
   "outputs": [],
   "source": []
  }
 ],
 "metadata": {
  "kernelspec": {
   "display_name": "Python 3 (ipykernel)",
   "language": "python",
   "name": "python3"
  },
  "language_info": {
   "codemirror_mode": {
    "name": "ipython",
    "version": 3
   },
   "file_extension": ".py",
   "mimetype": "text/x-python",
   "name": "python",
   "nbconvert_exporter": "python",
   "pygments_lexer": "ipython3",
   "version": "3.8.8"
  }
 },
 "nbformat": 4,
 "nbformat_minor": 5
}
